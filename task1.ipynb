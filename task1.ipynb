{
 "cells": [
  {
   "cell_type": "code",
   "execution_count": 2,
   "metadata": {},
   "outputs": [
    {
     "name": "stdout",
     "output_type": "stream",
     "text": [
      "Please enter your word lolol\n",
      "wow polyndrom\n"
     ]
    }
   ],
   "source": [
    "#task 6 (2 points)\n",
    "v=str(input(\"Please enter your word \" ) )\n",
    "w=v[::-1]\n",
    "#print(w)\n",
    "if w==v:\n",
    "    print(\"wow polyndrom\")\n",
    "else:\n",
    "    print(\"no poly sorry\")"
   ]
  },
  {
   "cell_type": "code",
   "execution_count": 34,
   "metadata": {},
   "outputs": [
    {
     "name": "stdout",
     "output_type": "stream",
     "text": [
      "darling, tell your number 121\n",
      "[1, 11, 121]\n"
     ]
    }
   ],
   "source": [
    "#task 4 (2points)\n",
    "n=int(input(\"darling, tell your number \" ))\n",
    "lst=[]\n",
    "for i in range(1,n+1):\n",
    "    if n%i==0:\n",
    "        lst.append(i)\n",
    "print(lst)\n",
    "        "
   ]
  },
  {
   "cell_type": "code",
   "execution_count": 35,
   "metadata": {},
   "outputs": [
    {
     "name": "stdout",
     "output_type": "stream",
     "text": [
      "how many fibonacci you would like? 12\n",
      "[1, 1, 2, 3, 5, 8, 13, 21, 34, 55, 89, 144]\n"
     ]
    }
   ],
   "source": [
    "#task 13 (2 points)\n",
    "def fib(n):\n",
    "    lst=[]\n",
    "    if n==0:\n",
    "        return 0\n",
    "    elif n==1: \n",
    "        lst=1\n",
    "        return lst\n",
    "    elif n==2: \n",
    "        lst=[1,1]\n",
    "        return lst\n",
    "    else:\n",
    "        lst=[1,1]\n",
    "        for i in range(2,n):\n",
    "            lst.append(lst[i-1]+lst[i-2])\n",
    "        return lst   \n",
    "        \n",
    "n=int(input(\"how many fibonacci you would like? \"))\n",
    "print(fib(n))"
   ]
  },
  {
   "cell_type": "code",
   "execution_count": 6,
   "metadata": {},
   "outputs": [
    {
     "name": "stdout",
     "output_type": "stream",
     "text": [
      "AS SA AS SA PR IT\n",
      "['AS', 'SA', 'AS', 'SA', 'PR', 'IT']\n",
      "{'3'}\n",
      "{'PR', 'IT', 'SA', 'AS'}\n"
     ]
    }
   ],
   "source": [
    "#task14 (2 points)\n",
    "lwwst=[]\n",
    "for d in input().split():\n",
    "    lwwst.append(d)\n",
    "print(lwwst)\n",
    "s1=set(lwwst)\n",
    "print(s1)\n"
   ]
  },
  {
   "cell_type": "code",
   "execution_count": 10,
   "metadata": {},
   "outputs": [
    {
     "name": "stdout",
     "output_type": "stream",
     "text": [
      "1 4 8 9 5 4\n",
      "[1, 4, 4]\n"
     ]
    }
   ],
   "source": [
    "#task 3 (2 points)\n",
    "mass=[]\n",
    "for t in input().split():\n",
    "    if int(t)<5:\n",
    "        mass.append(int(t))        \n",
    "print(mass)\n"
   ]
  },
  {
   "cell_type": "code",
   "execution_count": 16,
   "metadata": {},
   "outputs": [
    {
     "name": "stdout",
     "output_type": "stream",
     "text": [
      "1 2 3 4 5 6\n",
      "[1, 6]\n"
     ]
    }
   ],
   "source": [
    "#task 12 (1 point)\n",
    "def res(lst1):\n",
    "    return [lst1[0],lst1[len(lst1)-1]]\n",
    "lst2=[]\n",
    "for d in input().split():\n",
    "    lst2.append(int(d))\n",
    "print(res(lst2))"
   ]
  },
  {
   "cell_type": "code",
   "execution_count": 19,
   "metadata": {},
   "outputs": [
    {
     "name": "stdout",
     "output_type": "stream",
     "text": [
      "4\n",
      "even\n"
     ]
    }
   ],
   "source": [
    "#task 2 (1 point)\n",
    "n=int(input())\n",
    "if n%2==0:\n",
    "    print(\"even\")\n",
    "else:\n",
    "    print(\"odd\")"
   ]
  },
  {
   "cell_type": "code",
   "execution_count": null,
   "metadata": {},
   "outputs": [],
   "source": []
  }
 ],
 "metadata": {
  "kernelspec": {
   "display_name": "Python 3",
   "language": "python",
   "name": "python3"
  },
  "language_info": {
   "codemirror_mode": {
    "name": "ipython",
    "version": 3
   },
   "file_extension": ".py",
   "mimetype": "text/x-python",
   "name": "python",
   "nbconvert_exporter": "python",
   "pygments_lexer": "ipython3",
   "version": "3.7.4"
  }
 },
 "nbformat": 4,
 "nbformat_minor": 2
}
